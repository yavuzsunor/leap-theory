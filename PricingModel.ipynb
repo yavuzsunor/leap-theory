{
 "cells": [
  {
   "cell_type": "markdown",
   "metadata": {},
   "source": [
    "### Import Libraries"
   ]
  },
  {
   "cell_type": "code",
   "execution_count": null,
   "metadata": {},
   "outputs": [],
   "source": [
    "\"\"\"\n",
    "Two different prices are being tested at the same time for the same buyer. The performance of each is measured by 4 metrics: the number of sales, revenue, payout, and earnings.\n",
    "\n",
    "Part 1: Based on the data, discover if any of the two price options shows a significantly better performance than the other one. Write a script that will determine which test category is the \"winner\" using any programming language that you would like.\n",
    "\n",
    "Part 2: Write a brief explanation of how you would design a system that would optimize 500 tests like this every day. \n",
    "\"\"\""
   ]
  },
  {
   "cell_type": "code",
   "execution_count": 122,
   "metadata": {},
   "outputs": [],
   "source": [
    "import numpy as np\n",
    "import pandas as pd\n",
    "import scipy.stats as stats\n",
    "import statsmodels.stats.api as sms\n",
    "import seaborn as sns\n",
    "from math import ceil\n",
    "from statsmodels.stats.proportion import proportions_ztest, proportion_confint"
   ]
  },
  {
   "cell_type": "markdown",
   "metadata": {},
   "source": [
    "### Read the data & EDA"
   ]
  },
  {
   "cell_type": "code",
   "execution_count": 3,
   "metadata": {},
   "outputs": [],
   "source": [
    "df = pd.read_excel(\"Data_Engineer_Data.xlsx\")"
   ]
  },
  {
   "cell_type": "code",
   "execution_count": 121,
   "metadata": {},
   "outputs": [
    {
     "data": {
      "text/html": [
       "<div>\n",
       "<style scoped>\n",
       "    .dataframe tbody tr th:only-of-type {\n",
       "        vertical-align: middle;\n",
       "    }\n",
       "\n",
       "    .dataframe tbody tr th {\n",
       "        vertical-align: top;\n",
       "    }\n",
       "\n",
       "    .dataframe thead th {\n",
       "        text-align: right;\n",
       "    }\n",
       "</style>\n",
       "<table border=\"1\" class=\"dataframe\">\n",
       "  <thead>\n",
       "    <tr style=\"text-align: right;\">\n",
       "      <th></th>\n",
       "      <th>split_test_option</th>\n",
       "      <th>accept_status</th>\n",
       "      <th>revenue</th>\n",
       "      <th>payout</th>\n",
       "      <th>erns</th>\n",
       "    </tr>\n",
       "  </thead>\n",
       "  <tbody>\n",
       "    <tr>\n",
       "      <th>0</th>\n",
       "      <td>[7951]</td>\n",
       "      <td>0</td>\n",
       "      <td>0.0</td>\n",
       "      <td>0.0</td>\n",
       "      <td>0.0</td>\n",
       "    </tr>\n",
       "    <tr>\n",
       "      <th>1</th>\n",
       "      <td>[7951]</td>\n",
       "      <td>0</td>\n",
       "      <td>0.0</td>\n",
       "      <td>0.0</td>\n",
       "      <td>0.0</td>\n",
       "    </tr>\n",
       "    <tr>\n",
       "      <th>2</th>\n",
       "      <td>[7951]</td>\n",
       "      <td>0</td>\n",
       "      <td>0.0</td>\n",
       "      <td>0.0</td>\n",
       "      <td>0.0</td>\n",
       "    </tr>\n",
       "    <tr>\n",
       "      <th>3</th>\n",
       "      <td>[7952]</td>\n",
       "      <td>0</td>\n",
       "      <td>0.0</td>\n",
       "      <td>0.0</td>\n",
       "      <td>0.0</td>\n",
       "    </tr>\n",
       "    <tr>\n",
       "      <th>4</th>\n",
       "      <td>[7951]</td>\n",
       "      <td>0</td>\n",
       "      <td>0.0</td>\n",
       "      <td>0.0</td>\n",
       "      <td>0.0</td>\n",
       "    </tr>\n",
       "  </tbody>\n",
       "</table>\n",
       "</div>"
      ],
      "text/plain": [
       "  split_test_option  accept_status  revenue  payout  erns\n",
       "0            [7951]              0      0.0     0.0   0.0\n",
       "1            [7951]              0      0.0     0.0   0.0\n",
       "2            [7951]              0      0.0     0.0   0.0\n",
       "3            [7952]              0      0.0     0.0   0.0\n",
       "4            [7951]              0      0.0     0.0   0.0"
      ]
     },
     "execution_count": 121,
     "metadata": {},
     "output_type": "execute_result"
    }
   ],
   "source": [
    "df.head()"
   ]
  },
  {
   "cell_type": "code",
   "execution_count": 7,
   "metadata": {},
   "outputs": [
    {
     "data": {
      "text/plain": [
       "split_test_option\n",
       "[7951]    8944\n",
       "[7952]    2564\n",
       "Name: count, dtype: int64"
      ]
     },
     "execution_count": 7,
     "metadata": {},
     "output_type": "execute_result"
    }
   ],
   "source": [
    "df.split_test_option.value_counts()"
   ]
  },
  {
   "cell_type": "code",
   "execution_count": 8,
   "metadata": {},
   "outputs": [
    {
     "data": {
      "text/plain": [
       "accept_status\n",
       "0    11438\n",
       "1       70\n",
       "Name: count, dtype: int64"
      ]
     },
     "execution_count": 8,
     "metadata": {},
     "output_type": "execute_result"
    }
   ],
   "source": [
    "df.accept_status.value_counts()"
   ]
  },
  {
   "cell_type": "code",
   "execution_count": 5,
   "metadata": {},
   "outputs": [
    {
     "name": "stdout",
     "output_type": "stream",
     "text": [
      "<class 'pandas.core.frame.DataFrame'>\n",
      "RangeIndex: 11508 entries, 0 to 11507\n",
      "Data columns (total 5 columns):\n",
      " #   Column             Non-Null Count  Dtype  \n",
      "---  ------             --------------  -----  \n",
      " 0   split_test_option  11508 non-null  object \n",
      " 1   accept_status      11508 non-null  int64  \n",
      " 2   revenue            11508 non-null  float64\n",
      " 3   payout             11508 non-null  float64\n",
      " 4   erns               11508 non-null  float64\n",
      "dtypes: float64(3), int64(1), object(1)\n",
      "memory usage: 449.7+ KB\n"
     ]
    }
   ],
   "source": [
    "df.info()"
   ]
  },
  {
   "cell_type": "code",
   "execution_count": 128,
   "metadata": {},
   "outputs": [],
   "source": [
    "def percentCount(df):\n",
    "    counts = df.accept_status.value_counts()\n",
    "    percent = df.accept_status.value_counts(normalize=True)\n",
    "    percent100 = df.accept_status.value_counts(normalize=True).mul(100).round(1).astype(str) + '%'\n",
    "    return pd.DataFrame({'counts': counts, 'per': percent, 'per100': percent100})"
   ]
  },
  {
   "cell_type": "code",
   "execution_count": 129,
   "metadata": {},
   "outputs": [
    {
     "data": {
      "text/html": [
       "<div>\n",
       "<style scoped>\n",
       "    .dataframe tbody tr th:only-of-type {\n",
       "        vertical-align: middle;\n",
       "    }\n",
       "\n",
       "    .dataframe tbody tr th {\n",
       "        vertical-align: top;\n",
       "    }\n",
       "\n",
       "    .dataframe thead th {\n",
       "        text-align: right;\n",
       "    }\n",
       "</style>\n",
       "<table border=\"1\" class=\"dataframe\">\n",
       "  <thead>\n",
       "    <tr style=\"text-align: right;\">\n",
       "      <th></th>\n",
       "      <th>counts</th>\n",
       "      <th>per</th>\n",
       "      <th>per100</th>\n",
       "    </tr>\n",
       "    <tr>\n",
       "      <th>accept_status</th>\n",
       "      <th></th>\n",
       "      <th></th>\n",
       "      <th></th>\n",
       "    </tr>\n",
       "  </thead>\n",
       "  <tbody>\n",
       "    <tr>\n",
       "      <th>0</th>\n",
       "      <td>8893</td>\n",
       "      <td>0.994298</td>\n",
       "      <td>99.4%</td>\n",
       "    </tr>\n",
       "    <tr>\n",
       "      <th>1</th>\n",
       "      <td>51</td>\n",
       "      <td>0.005702</td>\n",
       "      <td>0.6%</td>\n",
       "    </tr>\n",
       "  </tbody>\n",
       "</table>\n",
       "</div>"
      ],
      "text/plain": [
       "               counts       per per100\n",
       "accept_status                         \n",
       "0                8893  0.994298  99.4%\n",
       "1                  51  0.005702   0.6%"
      ]
     },
     "execution_count": 129,
     "metadata": {},
     "output_type": "execute_result"
    }
   ],
   "source": [
    "percentCount(df_7951)"
   ]
  },
  {
   "cell_type": "code",
   "execution_count": 130,
   "metadata": {},
   "outputs": [
    {
     "data": {
      "text/html": [
       "<div>\n",
       "<style scoped>\n",
       "    .dataframe tbody tr th:only-of-type {\n",
       "        vertical-align: middle;\n",
       "    }\n",
       "\n",
       "    .dataframe tbody tr th {\n",
       "        vertical-align: top;\n",
       "    }\n",
       "\n",
       "    .dataframe thead th {\n",
       "        text-align: right;\n",
       "    }\n",
       "</style>\n",
       "<table border=\"1\" class=\"dataframe\">\n",
       "  <thead>\n",
       "    <tr style=\"text-align: right;\">\n",
       "      <th></th>\n",
       "      <th>counts</th>\n",
       "      <th>per</th>\n",
       "      <th>per100</th>\n",
       "    </tr>\n",
       "    <tr>\n",
       "      <th>accept_status</th>\n",
       "      <th></th>\n",
       "      <th></th>\n",
       "      <th></th>\n",
       "    </tr>\n",
       "  </thead>\n",
       "  <tbody>\n",
       "    <tr>\n",
       "      <th>0</th>\n",
       "      <td>2545</td>\n",
       "      <td>0.99259</td>\n",
       "      <td>99.3%</td>\n",
       "    </tr>\n",
       "    <tr>\n",
       "      <th>1</th>\n",
       "      <td>19</td>\n",
       "      <td>0.00741</td>\n",
       "      <td>0.7%</td>\n",
       "    </tr>\n",
       "  </tbody>\n",
       "</table>\n",
       "</div>"
      ],
      "text/plain": [
       "               counts      per per100\n",
       "accept_status                        \n",
       "0                2545  0.99259  99.3%\n",
       "1                  19  0.00741   0.7%"
      ]
     },
     "execution_count": 130,
     "metadata": {},
     "output_type": "execute_result"
    }
   ],
   "source": [
    "percentCount(df_7952)"
   ]
  },
  {
   "cell_type": "code",
   "execution_count": 127,
   "metadata": {
    "scrolled": false
   },
   "outputs": [
    {
     "data": {
      "text/html": [
       "<div>\n",
       "<style scoped>\n",
       "    .dataframe tbody tr th:only-of-type {\n",
       "        vertical-align: middle;\n",
       "    }\n",
       "\n",
       "    .dataframe tbody tr th {\n",
       "        vertical-align: top;\n",
       "    }\n",
       "\n",
       "    .dataframe thead th {\n",
       "        text-align: right;\n",
       "    }\n",
       "</style>\n",
       "<table border=\"1\" class=\"dataframe\">\n",
       "  <thead>\n",
       "    <tr style=\"text-align: right;\">\n",
       "      <th></th>\n",
       "      <th>split_test_option</th>\n",
       "      <th>[7951]</th>\n",
       "      <th>[7952]</th>\n",
       "    </tr>\n",
       "  </thead>\n",
       "  <tbody>\n",
       "    <tr>\n",
       "      <th rowspan=\"8\" valign=\"top\">accept_status</th>\n",
       "      <th>count</th>\n",
       "      <td>8944.000000</td>\n",
       "      <td>2564.000000</td>\n",
       "    </tr>\n",
       "    <tr>\n",
       "      <th>mean</th>\n",
       "      <td>0.005702</td>\n",
       "      <td>0.007410</td>\n",
       "    </tr>\n",
       "    <tr>\n",
       "      <th>std</th>\n",
       "      <td>0.075301</td>\n",
       "      <td>0.085780</td>\n",
       "    </tr>\n",
       "    <tr>\n",
       "      <th>min</th>\n",
       "      <td>0.000000</td>\n",
       "      <td>0.000000</td>\n",
       "    </tr>\n",
       "    <tr>\n",
       "      <th>25%</th>\n",
       "      <td>0.000000</td>\n",
       "      <td>0.000000</td>\n",
       "    </tr>\n",
       "    <tr>\n",
       "      <th>50%</th>\n",
       "      <td>0.000000</td>\n",
       "      <td>0.000000</td>\n",
       "    </tr>\n",
       "    <tr>\n",
       "      <th>75%</th>\n",
       "      <td>0.000000</td>\n",
       "      <td>0.000000</td>\n",
       "    </tr>\n",
       "    <tr>\n",
       "      <th>max</th>\n",
       "      <td>1.000000</td>\n",
       "      <td>1.000000</td>\n",
       "    </tr>\n",
       "    <tr>\n",
       "      <th rowspan=\"8\" valign=\"top\">revenue</th>\n",
       "      <th>count</th>\n",
       "      <td>8944.000000</td>\n",
       "      <td>2564.000000</td>\n",
       "    </tr>\n",
       "    <tr>\n",
       "      <th>mean</th>\n",
       "      <td>0.100846</td>\n",
       "      <td>0.060920</td>\n",
       "    </tr>\n",
       "    <tr>\n",
       "      <th>std</th>\n",
       "      <td>1.847549</td>\n",
       "      <td>1.100745</td>\n",
       "    </tr>\n",
       "    <tr>\n",
       "      <th>min</th>\n",
       "      <td>0.000000</td>\n",
       "      <td>0.000000</td>\n",
       "    </tr>\n",
       "    <tr>\n",
       "      <th>25%</th>\n",
       "      <td>0.000000</td>\n",
       "      <td>0.000000</td>\n",
       "    </tr>\n",
       "    <tr>\n",
       "      <th>50%</th>\n",
       "      <td>0.000000</td>\n",
       "      <td>0.000000</td>\n",
       "    </tr>\n",
       "    <tr>\n",
       "      <th>75%</th>\n",
       "      <td>0.000000</td>\n",
       "      <td>0.000000</td>\n",
       "    </tr>\n",
       "    <tr>\n",
       "      <th>max</th>\n",
       "      <td>78.050000</td>\n",
       "      <td>40.070000</td>\n",
       "    </tr>\n",
       "    <tr>\n",
       "      <th rowspan=\"8\" valign=\"top\">payout</th>\n",
       "      <th>count</th>\n",
       "      <td>8944.000000</td>\n",
       "      <td>2564.000000</td>\n",
       "    </tr>\n",
       "    <tr>\n",
       "      <th>mean</th>\n",
       "      <td>0.077616</td>\n",
       "      <td>0.045593</td>\n",
       "    </tr>\n",
       "    <tr>\n",
       "      <th>std</th>\n",
       "      <td>1.582549</td>\n",
       "      <td>0.931970</td>\n",
       "    </tr>\n",
       "    <tr>\n",
       "      <th>min</th>\n",
       "      <td>0.000000</td>\n",
       "      <td>0.000000</td>\n",
       "    </tr>\n",
       "    <tr>\n",
       "      <th>25%</th>\n",
       "      <td>0.000000</td>\n",
       "      <td>0.000000</td>\n",
       "    </tr>\n",
       "    <tr>\n",
       "      <th>50%</th>\n",
       "      <td>0.000000</td>\n",
       "      <td>0.000000</td>\n",
       "    </tr>\n",
       "    <tr>\n",
       "      <th>75%</th>\n",
       "      <td>0.000000</td>\n",
       "      <td>0.000000</td>\n",
       "    </tr>\n",
       "    <tr>\n",
       "      <th>max</th>\n",
       "      <td>74.100000</td>\n",
       "      <td>40.000000</td>\n",
       "    </tr>\n",
       "    <tr>\n",
       "      <th rowspan=\"8\" valign=\"top\">erns</th>\n",
       "      <th>count</th>\n",
       "      <td>8944.000000</td>\n",
       "      <td>2564.000000</td>\n",
       "    </tr>\n",
       "    <tr>\n",
       "      <th>mean</th>\n",
       "      <td>0.023230</td>\n",
       "      <td>0.015328</td>\n",
       "    </tr>\n",
       "    <tr>\n",
       "      <th>std</th>\n",
       "      <td>0.799460</td>\n",
       "      <td>0.581777</td>\n",
       "    </tr>\n",
       "    <tr>\n",
       "      <th>min</th>\n",
       "      <td>0.000000</td>\n",
       "      <td>0.000000</td>\n",
       "    </tr>\n",
       "    <tr>\n",
       "      <th>25%</th>\n",
       "      <td>0.000000</td>\n",
       "      <td>0.000000</td>\n",
       "    </tr>\n",
       "    <tr>\n",
       "      <th>50%</th>\n",
       "      <td>0.000000</td>\n",
       "      <td>0.000000</td>\n",
       "    </tr>\n",
       "    <tr>\n",
       "      <th>75%</th>\n",
       "      <td>0.000000</td>\n",
       "      <td>0.000000</td>\n",
       "    </tr>\n",
       "    <tr>\n",
       "      <th>max</th>\n",
       "      <td>40.070000</td>\n",
       "      <td>27.230000</td>\n",
       "    </tr>\n",
       "  </tbody>\n",
       "</table>\n",
       "</div>"
      ],
      "text/plain": [
       "split_test_option         [7951]       [7952]\n",
       "accept_status count  8944.000000  2564.000000\n",
       "              mean      0.005702     0.007410\n",
       "              std       0.075301     0.085780\n",
       "              min       0.000000     0.000000\n",
       "              25%       0.000000     0.000000\n",
       "              50%       0.000000     0.000000\n",
       "              75%       0.000000     0.000000\n",
       "              max       1.000000     1.000000\n",
       "revenue       count  8944.000000  2564.000000\n",
       "              mean      0.100846     0.060920\n",
       "              std       1.847549     1.100745\n",
       "              min       0.000000     0.000000\n",
       "              25%       0.000000     0.000000\n",
       "              50%       0.000000     0.000000\n",
       "              75%       0.000000     0.000000\n",
       "              max      78.050000    40.070000\n",
       "payout        count  8944.000000  2564.000000\n",
       "              mean      0.077616     0.045593\n",
       "              std       1.582549     0.931970\n",
       "              min       0.000000     0.000000\n",
       "              25%       0.000000     0.000000\n",
       "              50%       0.000000     0.000000\n",
       "              75%       0.000000     0.000000\n",
       "              max      74.100000    40.000000\n",
       "erns          count  8944.000000  2564.000000\n",
       "              mean      0.023230     0.015328\n",
       "              std       0.799460     0.581777\n",
       "              min       0.000000     0.000000\n",
       "              25%       0.000000     0.000000\n",
       "              50%       0.000000     0.000000\n",
       "              75%       0.000000     0.000000\n",
       "              max      40.070000    27.230000"
      ]
     },
     "execution_count": 127,
     "metadata": {},
     "output_type": "execute_result"
    }
   ],
   "source": [
    "df.groupby('split_test_option').describe().transpose()"
   ]
  },
  {
   "cell_type": "markdown",
   "metadata": {},
   "source": [
    "### A/B Test"
   ]
  },
  {
   "cell_type": "code",
   "execution_count": 115,
   "metadata": {},
   "outputs": [],
   "source": [
    "def evalTests(df, metric):\n",
    "    # Define functions for standard deviation and standard error\n",
    "    std_dev = lambda x : np.std(x, ddof = 0) \n",
    "    std_error = lambda x : stats.sem(x, ddof = 0)\n",
    "    conversion_rate = df.groupby('split_test_option')[metric].agg([np.mean, std_dev, std_error])\n",
    "    conversion_rate.columns = ['conversion_rate', 'std_deviation', 'std_error']\n",
    "    print(conversion_rate)\n",
    "    \n",
    "\n",
    "    test_1_results = df[df['split_test_option'] == '[7951]'][metric]\n",
    "    test_2_results = df[df['split_test_option'] == '[7952]'][metric]\n",
    "\n",
    "    num_test1 = test_1_results.count()\n",
    "    num_test2 = test_2_results.count()\n",
    "    successes = [test_1_results.sum(), test_2_results.sum()]\n",
    "    nobs = [num_test1, num_test2]\n",
    "\n",
    "    z_stat, pval = proportions_ztest(successes, nobs = nobs)\n",
    "    (lower_test1, lower_test2), (upper_test1, upper_test2) = proportion_confint(successes, nobs=nobs, alpha=0.05)\n",
    "\n",
    "    print(f'Z Statistic - {z_stat:.2f}')\n",
    "    print(f'P-Value - {pval:.3f}')\n",
    "    print(f'CI 95% for test1 group - [{lower_test1:.3f}, {upper_test1:.3f}]')\n",
    "    print(f'CI 95% for test2 group - [{lower_test2:.3f}, {upper_test2:.3f}]')"
   ]
  },
  {
   "cell_type": "code",
   "execution_count": 132,
   "metadata": {},
   "outputs": [
    {
     "name": "stdout",
     "output_type": "stream",
     "text": [
      "Test Results for each metrics: \n",
      "\n",
      "accept_status\n",
      "                   conversion_rate  std_deviation  std_error\n",
      "split_test_option                                           \n",
      "[7951]                    0.005702       0.075297   0.000796\n",
      "[7952]                    0.007410       0.085764   0.001694\n",
      "Z Statistic - -0.98\n",
      "P-Value - 0.327\n",
      "CI 95% for test1 group - [0.004, 0.007]\n",
      "CI 95% for test2 group - [0.004, 0.011]\n",
      "\n",
      "\n",
      "revenue\n",
      "                   conversion_rate  std_deviation  std_error\n",
      "split_test_option                                           \n",
      "[7951]                    0.100846       1.847446   0.019535\n",
      "[7952]                    0.060920       1.100530   0.021734\n",
      "Z Statistic - 6.17\n",
      "P-Value - 0.000\n",
      "CI 95% for test1 group - [0.095, 0.107]\n",
      "CI 95% for test2 group - [0.052, 0.070]\n",
      "\n",
      "\n",
      "payout\n",
      "                   conversion_rate  std_deviation  std_error\n",
      "split_test_option                                           \n",
      "[7951]                    0.077616       1.582461   0.016733\n",
      "[7952]                    0.045593       0.931788   0.018402\n",
      "Z Statistic - 5.59\n",
      "P-Value - 0.000\n",
      "CI 95% for test1 group - [0.072, 0.083]\n",
      "CI 95% for test2 group - [0.038, 0.054]\n",
      "\n",
      "\n",
      "erns\n",
      "                   conversion_rate  std_deviation  std_error\n",
      "split_test_option                                           \n",
      "[7951]                    0.023230       0.799415   0.008453\n",
      "[7952]                    0.015328       0.581664   0.011487\n",
      "Z Statistic - 2.43\n",
      "P-Value - 0.015\n",
      "CI 95% for test1 group - [0.020, 0.026]\n",
      "CI 95% for test2 group - [0.011, 0.020]\n",
      "\n",
      "\n"
     ]
    }
   ],
   "source": [
    "print(\"Test Results for each metrics:\", \"\\n\")\n",
    "for metric in ['accept_status', 'revenue', 'payout', 'erns']:\n",
    "    print(metric)\n",
    "    evalTests(df, metric)\n",
    "    print(\"\\n\")"
   ]
  },
  {
   "cell_type": "markdown",
   "metadata": {},
   "source": [
    "### Conclusion\n",
    "Although we don't see a significance difference(alpha being 0.05) in the number of sales between two price options, when we look at the earnings - which we may consider as the main metric for this study, we see a significant lift using the price option $[7951]$ comparing the $[7952]$. So based on this test, we can infer that $[7951]$ will be a more profitable option.   "
   ]
  },
  {
   "cell_type": "code",
   "execution_count": null,
   "metadata": {},
   "outputs": [],
   "source": []
  }
 ],
 "metadata": {
  "kernelspec": {
   "display_name": "jupyenv",
   "language": "python",
   "name": "jupyenv"
  },
  "language_info": {
   "codemirror_mode": {
    "name": "ipython",
    "version": 3
   },
   "file_extension": ".py",
   "mimetype": "text/x-python",
   "name": "python",
   "nbconvert_exporter": "python",
   "pygments_lexer": "ipython3",
   "version": "3.8.0"
  }
 },
 "nbformat": 4,
 "nbformat_minor": 2
}
